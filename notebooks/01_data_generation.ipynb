{
 "cells": [
  {
   "cell_type": "markdown",
   "metadata": {},
   "source": [
    "# Import and Setup"
   ]
  },
  {
   "cell_type": "code",
   "execution_count": 13,
   "metadata": {},
   "outputs": [],
   "source": [
    "import numpy as np\n",
    "import pandas as pd\n",
    "import random\n",
    "import matplotlib.pyplot as plt\n",
    "import seaborn as sns\n",
    "\n",
    "# For reproducibility\n",
    "np.random.seed(42)\n",
    "random.seed(42)"
   ]
  },
  {
   "cell_type": "markdown",
   "metadata": {},
   "source": [
    "# Generate Synthetic User Features"
   ]
  },
  {
   "cell_type": "code",
   "execution_count": 2,
   "metadata": {},
   "outputs": [],
   "source": [
    "n_users = 1000\n",
    "user_ids = np.arange(n_users)\n",
    "\n",
    "# Simulate realistic demographic and health-related features\n",
    "ages = np.random.randint(18, 70, n_users)\n",
    "genders = np.random.choice(['male', 'female'], size=n_users)\n",
    "bmi = np.round(np.random.normal(27, 4, size=n_users), 1)  # Avg BMI ~27 with spread\n",
    "activity_levels = np.random.choice(['low', 'moderate', 'high'], size=n_users, p=[0.3, 0.5, 0.2])\n",
    "has_diabetes = np.random.choice([0, 1], size=n_users, p=[0.85, 0.15])         # ~15% prevalence\n",
    "is_hypertensive = np.random.choice([0, 1], size=n_users, p=[0.75, 0.25])     # ~25% prevalence\n",
    "is_vegetarian = np.random.choice([0, 1], size=n_users, p=[0.7, 0.3])\n",
    "cholesterol = np.round(np.random.normal(190, 30, size=n_users))  # Avg ~190 mg/dL\n",
    "medications = np.random.choice(['none', 'statin', 'insulin'], size=n_users, p=[0.6, 0.25, 0.15])\n",
    "\n",
    "# Combine into a DataFrame\n",
    "users = pd.DataFrame({\n",
    "    'user_id': user_ids,\n",
    "    'age': ages,\n",
    "    'gender': genders,\n",
    "    'bmi': bmi,\n",
    "    'activity_level': activity_levels,\n",
    "    'has_diabetes': has_diabetes,\n",
    "    'is_hypertensive': is_hypertensive,\n",
    "    'is_vegetarian': is_vegetarian,\n",
    "    'cholesterol': cholesterol,\n",
    "    'medications': medications\n",
    "})"
   ]
  },
  {
   "cell_type": "code",
   "execution_count": 3,
   "metadata": {},
   "outputs": [
    {
     "data": {
      "text/html": "<div>\n<style scoped>\n    .dataframe tbody tr th:only-of-type {\n        vertical-align: middle;\n    }\n\n    .dataframe tbody tr th {\n        vertical-align: top;\n    }\n\n    .dataframe thead th {\n        text-align: right;\n    }\n</style>\n<table border=\"1\" class=\"dataframe\">\n  <thead>\n    <tr style=\"text-align: right;\">\n      <th></th>\n      <th>user_id</th>\n      <th>age</th>\n      <th>gender</th>\n      <th>bmi</th>\n      <th>activity_level</th>\n      <th>has_diabetes</th>\n      <th>is_hypertensive</th>\n      <th>is_vegetarian</th>\n      <th>cholesterol</th>\n      <th>medications</th>\n    </tr>\n  </thead>\n  <tbody>\n    <tr>\n      <th>0</th>\n      <td>0</td>\n      <td>56</td>\n      <td>male</td>\n      <td>26.9</td>\n      <td>moderate</td>\n      <td>1</td>\n      <td>0</td>\n      <td>1</td>\n      <td>200.0</td>\n      <td>insulin</td>\n    </tr>\n    <tr>\n      <th>1</th>\n      <td>1</td>\n      <td>69</td>\n      <td>male</td>\n      <td>31.8</td>\n      <td>moderate</td>\n      <td>0</td>\n      <td>0</td>\n      <td>0</td>\n      <td>182.0</td>\n      <td>none</td>\n    </tr>\n    <tr>\n      <th>2</th>\n      <td>2</td>\n      <td>46</td>\n      <td>male</td>\n      <td>37.1</td>\n      <td>moderate</td>\n      <td>0</td>\n      <td>1</td>\n      <td>0</td>\n      <td>154.0</td>\n      <td>statin</td>\n    </tr>\n    <tr>\n      <th>3</th>\n      <td>3</td>\n      <td>32</td>\n      <td>female</td>\n      <td>24.9</td>\n      <td>moderate</td>\n      <td>0</td>\n      <td>0</td>\n      <td>1</td>\n      <td>156.0</td>\n      <td>none</td>\n    </tr>\n    <tr>\n      <th>4</th>\n      <td>4</td>\n      <td>60</td>\n      <td>male</td>\n      <td>25.0</td>\n      <td>moderate</td>\n      <td>1</td>\n      <td>1</td>\n      <td>1</td>\n      <td>211.0</td>\n      <td>insulin</td>\n    </tr>\n    <tr>\n      <th>...</th>\n      <td>...</td>\n      <td>...</td>\n      <td>...</td>\n      <td>...</td>\n      <td>...</td>\n      <td>...</td>\n      <td>...</td>\n      <td>...</td>\n      <td>...</td>\n      <td>...</td>\n    </tr>\n    <tr>\n      <th>995</th>\n      <td>995</td>\n      <td>60</td>\n      <td>female</td>\n      <td>30.1</td>\n      <td>high</td>\n      <td>0</td>\n      <td>0</td>\n      <td>0</td>\n      <td>236.0</td>\n      <td>none</td>\n    </tr>\n    <tr>\n      <th>996</th>\n      <td>996</td>\n      <td>64</td>\n      <td>male</td>\n      <td>32.2</td>\n      <td>low</td>\n      <td>0</td>\n      <td>0</td>\n      <td>0</td>\n      <td>150.0</td>\n      <td>none</td>\n    </tr>\n    <tr>\n      <th>997</th>\n      <td>997</td>\n      <td>62</td>\n      <td>female</td>\n      <td>32.6</td>\n      <td>moderate</td>\n      <td>0</td>\n      <td>1</td>\n      <td>1</td>\n      <td>164.0</td>\n      <td>none</td>\n    </tr>\n    <tr>\n      <th>998</th>\n      <td>998</td>\n      <td>35</td>\n      <td>male</td>\n      <td>24.8</td>\n      <td>low</td>\n      <td>0</td>\n      <td>0</td>\n      <td>0</td>\n      <td>231.0</td>\n      <td>statin</td>\n    </tr>\n    <tr>\n      <th>999</th>\n      <td>999</td>\n      <td>55</td>\n      <td>male</td>\n      <td>26.2</td>\n      <td>low</td>\n      <td>0</td>\n      <td>1</td>\n      <td>1</td>\n      <td>221.0</td>\n      <td>none</td>\n    </tr>\n  </tbody>\n</table>\n<p>1000 rows × 10 columns</p>\n</div>",
      "text/plain": "     user_id  age  gender   bmi activity_level  has_diabetes  is_hypertensive  \\\n0          0   56    male  26.9       moderate             1                0   \n1          1   69    male  31.8       moderate             0                0   \n2          2   46    male  37.1       moderate             0                1   \n3          3   32  female  24.9       moderate             0                0   \n4          4   60    male  25.0       moderate             1                1   \n..       ...  ...     ...   ...            ...           ...              ...   \n995      995   60  female  30.1           high             0                0   \n996      996   64    male  32.2            low             0                0   \n997      997   62  female  32.6       moderate             0                1   \n998      998   35    male  24.8            low             0                0   \n999      999   55    male  26.2            low             0                1   \n\n     is_vegetarian  cholesterol medications  \n0                1        200.0     insulin  \n1                0        182.0        none  \n2                0        154.0      statin  \n3                1        156.0        none  \n4                1        211.0     insulin  \n..             ...          ...         ...  \n995              0        236.0        none  \n996              0        150.0        none  \n997              1        164.0        none  \n998              0        231.0      statin  \n999              1        221.0        none  \n\n[1000 rows x 10 columns]"
     },
     "execution_count": 3,
     "metadata": {},
     "output_type": "execute_result"
    }
   ],
   "source": [
    "users"
   ]
  },
  {
   "cell_type": "markdown",
   "metadata": {},
   "source": [
    "# Define Meal Plans (Treatments)"
   ]
  },
  {
   "cell_type": "code",
   "execution_count": 4,
   "metadata": {},
   "outputs": [],
   "source": [
    "meal_plans = pd.DataFrame({\n",
    "    'meal_id': [0, 1, 2],\n",
    "    'meal_type': ['standard', 'low_sodium', 'mediterranean']\n",
    "})\n"
   ]
  },
  {
   "cell_type": "markdown",
   "metadata": {},
   "source": [
    "# Assign Meals (biased based on health conditions)"
   ]
  },
  {
   "cell_type": "code",
   "execution_count": 5,
   "metadata": {},
   "outputs": [],
   "source": [
    "def assign_meal(row):\n",
    "    if row['is_hypertensive']:\n",
    "        return np.random.choice([1, 2], p=[0.6, 0.4])\n",
    "    elif row['has_diabetes']:\n",
    "        return np.random.choice([0, 2], p=[0.4, 0.6])\n",
    "    elif row['is_vegetarian']:\n",
    "        return 2\n",
    "    else:\n",
    "        return np.random.choice([0, 1, 2], p=[0.5, 0.3, 0.2])\n",
    "\n",
    "users['meal_id'] = users.apply(assign_meal, axis=1)\n"
   ]
  },
  {
   "cell_type": "markdown",
   "metadata": {},
   "source": [
    "# Simulate Health Outcome (health_score: 0 to 1)"
   ]
  },
  {
   "cell_type": "code",
   "execution_count": 6,
   "metadata": {},
   "outputs": [],
   "source": [
    "def simulate_health_score(row):\n",
    "    base = 0.5\n",
    "\n",
    "    # Treatment effect based on condition match\n",
    "    if row['meal_id'] == 1:  # Low sodium\n",
    "        base += 0.12 if row['is_hypertensive'] else -0.03\n",
    "    elif row['meal_id'] == 2:  # Mediterranean\n",
    "        base += 0.10 if row['has_diabetes'] else 0.02\n",
    "        if row['is_vegetarian']:\n",
    "            base += 0.02\n",
    "\n",
    "    # BMI penalty\n",
    "    base -= 0.01 * max(0, row['bmi'] - 25)\n",
    "\n",
    "    # Activity level\n",
    "    if row['activity_level'] == 'high':\n",
    "        base += 0.05\n",
    "    elif row['activity_level'] == 'low':\n",
    "        base -= 0.03\n",
    "\n",
    "    # Medication benefits\n",
    "    if row['medications'] == 'statin':\n",
    "        base += 0.02\n",
    "    elif row['medications'] == 'insulin':\n",
    "        base += 0.04\n",
    "\n",
    "    # Add noise for realism\n",
    "    return round(np.clip(np.random.normal(base, 0.05), 0, 1), 3)\n",
    "\n",
    "users['health_score'] = users.apply(simulate_health_score, axis=1)"
   ]
  },
  {
   "cell_type": "markdown",
   "metadata": {},
   "source": [
    "# Save to CSV"
   ]
  },
  {
   "cell_type": "code",
   "execution_count": 7,
   "metadata": {},
   "outputs": [],
   "source": [
    "users.to_csv('../data/synthetic_users.csv', index=False)\n",
    "meal_plans.to_csv('../data/meal_plans.csv', index=False)"
   ]
  },
  {
   "cell_type": "markdown",
   "metadata": {},
   "source": [
    "# Preview"
   ]
  },
  {
   "cell_type": "code",
   "execution_count": 8,
   "metadata": {},
   "outputs": [
    {
     "data": {
      "text/html": "<div>\n<style scoped>\n    .dataframe tbody tr th:only-of-type {\n        vertical-align: middle;\n    }\n\n    .dataframe tbody tr th {\n        vertical-align: top;\n    }\n\n    .dataframe thead th {\n        text-align: right;\n    }\n</style>\n<table border=\"1\" class=\"dataframe\">\n  <thead>\n    <tr style=\"text-align: right;\">\n      <th></th>\n      <th>user_id</th>\n      <th>age</th>\n      <th>gender</th>\n      <th>bmi</th>\n      <th>activity_level</th>\n      <th>has_diabetes</th>\n      <th>is_hypertensive</th>\n      <th>is_vegetarian</th>\n      <th>cholesterol</th>\n      <th>medications</th>\n      <th>meal_id</th>\n      <th>health_score</th>\n    </tr>\n  </thead>\n  <tbody>\n    <tr>\n      <th>count</th>\n      <td>1000.000000</td>\n      <td>1000.00000</td>\n      <td>1000</td>\n      <td>1000.000000</td>\n      <td>1000</td>\n      <td>1000.000000</td>\n      <td>1000.000000</td>\n      <td>1000.00000</td>\n      <td>1000.000000</td>\n      <td>1000</td>\n      <td>1000.000000</td>\n      <td>1000.000000</td>\n    </tr>\n    <tr>\n      <th>unique</th>\n      <td>NaN</td>\n      <td>NaN</td>\n      <td>2</td>\n      <td>NaN</td>\n      <td>3</td>\n      <td>NaN</td>\n      <td>NaN</td>\n      <td>NaN</td>\n      <td>NaN</td>\n      <td>3</td>\n      <td>NaN</td>\n      <td>NaN</td>\n    </tr>\n    <tr>\n      <th>top</th>\n      <td>NaN</td>\n      <td>NaN</td>\n      <td>male</td>\n      <td>NaN</td>\n      <td>moderate</td>\n      <td>NaN</td>\n      <td>NaN</td>\n      <td>NaN</td>\n      <td>NaN</td>\n      <td>none</td>\n      <td>NaN</td>\n      <td>NaN</td>\n    </tr>\n    <tr>\n      <th>freq</th>\n      <td>NaN</td>\n      <td>NaN</td>\n      <td>524</td>\n      <td>NaN</td>\n      <td>498</td>\n      <td>NaN</td>\n      <td>NaN</td>\n      <td>NaN</td>\n      <td>NaN</td>\n      <td>627</td>\n      <td>NaN</td>\n      <td>NaN</td>\n    </tr>\n    <tr>\n      <th>mean</th>\n      <td>499.500000</td>\n      <td>43.81900</td>\n      <td>NaN</td>\n      <td>27.322100</td>\n      <td>NaN</td>\n      <td>0.130000</td>\n      <td>0.251000</td>\n      <td>0.29400</td>\n      <td>188.525000</td>\n      <td>NaN</td>\n      <td>1.170000</td>\n      <td>0.513506</td>\n    </tr>\n    <tr>\n      <th>std</th>\n      <td>288.819436</td>\n      <td>14.99103</td>\n      <td>NaN</td>\n      <td>3.974982</td>\n      <td>NaN</td>\n      <td>0.336472</td>\n      <td>0.433805</td>\n      <td>0.45582</td>\n      <td>30.135154</td>\n      <td>NaN</td>\n      <td>0.820837</td>\n      <td>0.084842</td>\n    </tr>\n    <tr>\n      <th>min</th>\n      <td>0.000000</td>\n      <td>18.00000</td>\n      <td>NaN</td>\n      <td>15.300000</td>\n      <td>NaN</td>\n      <td>0.000000</td>\n      <td>0.000000</td>\n      <td>0.00000</td>\n      <td>103.000000</td>\n      <td>NaN</td>\n      <td>0.000000</td>\n      <td>0.280000</td>\n    </tr>\n    <tr>\n      <th>25%</th>\n      <td>249.750000</td>\n      <td>31.00000</td>\n      <td>NaN</td>\n      <td>24.600000</td>\n      <td>NaN</td>\n      <td>0.000000</td>\n      <td>0.000000</td>\n      <td>0.00000</td>\n      <td>169.000000</td>\n      <td>NaN</td>\n      <td>0.000000</td>\n      <td>0.455000</td>\n    </tr>\n    <tr>\n      <th>50%</th>\n      <td>499.500000</td>\n      <td>44.00000</td>\n      <td>NaN</td>\n      <td>27.300000</td>\n      <td>NaN</td>\n      <td>0.000000</td>\n      <td>0.000000</td>\n      <td>0.00000</td>\n      <td>189.000000</td>\n      <td>NaN</td>\n      <td>1.000000</td>\n      <td>0.509000</td>\n    </tr>\n    <tr>\n      <th>75%</th>\n      <td>749.250000</td>\n      <td>56.00000</td>\n      <td>NaN</td>\n      <td>30.000000</td>\n      <td>NaN</td>\n      <td>0.000000</td>\n      <td>1.000000</td>\n      <td>1.00000</td>\n      <td>208.000000</td>\n      <td>NaN</td>\n      <td>2.000000</td>\n      <td>0.570000</td>\n    </tr>\n    <tr>\n      <th>max</th>\n      <td>999.000000</td>\n      <td>69.00000</td>\n      <td>NaN</td>\n      <td>39.800000</td>\n      <td>NaN</td>\n      <td>1.000000</td>\n      <td>1.000000</td>\n      <td>1.00000</td>\n      <td>283.000000</td>\n      <td>NaN</td>\n      <td>2.000000</td>\n      <td>0.764000</td>\n    </tr>\n  </tbody>\n</table>\n</div>",
      "text/plain": "            user_id         age gender          bmi activity_level  \\\ncount   1000.000000  1000.00000   1000  1000.000000           1000   \nunique          NaN         NaN      2          NaN              3   \ntop             NaN         NaN   male          NaN       moderate   \nfreq            NaN         NaN    524          NaN            498   \nmean     499.500000    43.81900    NaN    27.322100            NaN   \nstd      288.819436    14.99103    NaN     3.974982            NaN   \nmin        0.000000    18.00000    NaN    15.300000            NaN   \n25%      249.750000    31.00000    NaN    24.600000            NaN   \n50%      499.500000    44.00000    NaN    27.300000            NaN   \n75%      749.250000    56.00000    NaN    30.000000            NaN   \nmax      999.000000    69.00000    NaN    39.800000            NaN   \n\n        has_diabetes  is_hypertensive  is_vegetarian  cholesterol medications  \\\ncount    1000.000000      1000.000000     1000.00000  1000.000000        1000   \nunique           NaN              NaN            NaN          NaN           3   \ntop              NaN              NaN            NaN          NaN        none   \nfreq             NaN              NaN            NaN          NaN         627   \nmean        0.130000         0.251000        0.29400   188.525000         NaN   \nstd         0.336472         0.433805        0.45582    30.135154         NaN   \nmin         0.000000         0.000000        0.00000   103.000000         NaN   \n25%         0.000000         0.000000        0.00000   169.000000         NaN   \n50%         0.000000         0.000000        0.00000   189.000000         NaN   \n75%         0.000000         1.000000        1.00000   208.000000         NaN   \nmax         1.000000         1.000000        1.00000   283.000000         NaN   \n\n            meal_id  health_score  \ncount   1000.000000   1000.000000  \nunique          NaN           NaN  \ntop             NaN           NaN  \nfreq            NaN           NaN  \nmean       1.170000      0.513506  \nstd        0.820837      0.084842  \nmin        0.000000      0.280000  \n25%        0.000000      0.455000  \n50%        1.000000      0.509000  \n75%        2.000000      0.570000  \nmax        2.000000      0.764000  "
     },
     "execution_count": 8,
     "metadata": {},
     "output_type": "execute_result"
    }
   ],
   "source": [
    "users.describe(include='all')"
   ]
  },
  {
   "cell_type": "code",
   "execution_count": 9,
   "metadata": {},
   "outputs": [
    {
     "name": "stdout",
     "output_type": "stream",
     "text": [
      "meal_id\n",
      "2    0.436\n",
      "1    0.298\n",
      "0    0.266\n",
      "Name: proportion, dtype: float64\n",
      "meal_id\n",
      "mediterranean    436\n",
      "low_sodium       298\n",
      "standard         266\n",
      "Name: count, dtype: int64\n"
     ]
    }
   ],
   "source": [
    "# Check meal type distribution\n",
    "print(users['meal_id'].value_counts(normalize=True))\n",
    "print(users['meal_id'].map(dict(zip(meal_plans['meal_id'], meal_plans['meal_type']))).value_counts())\n"
   ]
  },
  {
   "cell_type": "code",
   "execution_count": 14,
   "metadata": {},
   "outputs": [
    {
     "data": {
      "image/png": "[encoded data removed]",
      "text/plain": "<Figure size 640x480 with 1 Axes>"
     },
     "metadata": {},
     "output_type": "display_data"
    }
   ],
   "source": [
    "# Check health score distribution\n",
    "sns.histplot(users['health_score'], bins=30, kde=True)\n",
    "plt.title(\"Health Score Distribution\")\n",
    "plt.xlabel(\"Health Score\")\n",
    "plt.ylabel(\"Frequency\")\n",
    "plt.show()"
   ]
  },
  {
   "cell_type": "code",
   "execution_count": 15,
   "metadata": {},
   "outputs": [
    {
     "name": "stdout",
     "output_type": "stream",
     "text": [
      "meal_id              0         1         2\n",
      "has_diabetes                              \n",
      "0             0.255172  0.326437  0.418391\n",
      "1             0.338462  0.107692  0.553846\n",
      "meal_id                0         1         2\n",
      "is_hypertensive                             \n",
      "0                0.35514  0.186916  0.457944\n",
      "1                0.00000  0.629482  0.370518\n"
     ]
    }
   ],
   "source": [
    "# Crosstab by condition\n",
    "print(pd.crosstab(users['has_diabetes'], users['meal_id'], normalize='index'))\n",
    "print(pd.crosstab(users['is_hypertensive'], users['meal_id'], normalize='index'))"
   ]
  },
  {
   "cell_type": "code",
   "execution_count": null,
   "metadata": {},
   "outputs": [],
   "source": []
  }
 ],
 "metadata": {
  "kernelspec": {
   "display_name": "Python 3.11.6 64-bit ('venv')",
   "name": "python3116jvsc74a57bd0780b0c4191339424e2ae4c02a5dca3b552bc1db4b8ebc7a511cd88a326d0d20d"
  },
  "language_info": {
   "codemirror_mode": {
    "name": "ipython",
    "version": 3
   },
   "file_extension": ".py",
   "mimetype": "text/x-python",
   "name": "python",
   "nbconvert_exporter": "python",
   "pygments_lexer": "ipython3",
   "version": "3.11.6"
  },
  "orig_nbformat": 2
 },
 "nbformat": 4,
 "nbformat_minor": 2
}